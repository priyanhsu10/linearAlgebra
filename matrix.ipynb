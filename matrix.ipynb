{
  "nbformat": 4,
  "nbformat_minor": 0,
  "metadata": {
    "colab": {
      "provenance": [],
      "authorship_tag": "ABX9TyOuXQv19xtk4dr3mAX7U/RL",
      "include_colab_link": true
    },
    "kernelspec": {
      "name": "python3",
      "display_name": "Python 3"
    },
    "language_info": {
      "name": "python"
    }
  },
  "cells": [
    {
      "cell_type": "markdown",
      "metadata": {
        "id": "view-in-github",
        "colab_type": "text"
      },
      "source": [
        "<a href=\"https://colab.research.google.com/github/priyanhsu10/linearAlgebra/blob/main/matrix.ipynb\" target=\"_parent\"><img src=\"https://colab.research.google.com/assets/colab-badge.svg\" alt=\"Open In Colab\"/></a>"
      ]
    },
    {
      "cell_type": "code",
      "execution_count": 2,
      "metadata": {
        "id": "djq6SDbBwx1p",
        "colab": {
          "base_uri": "https://localhost:8080/"
        },
        "outputId": "82809fd6-bcbf-4ef1-ef30-79e5d1fc24cd"
      },
      "outputs": [
        {
          "output_type": "stream",
          "name": "stdout",
          "text": [
            "[-2 -2 -1]\n"
          ]
        }
      ],
      "source": [
        "import numpy as np\n",
        "v=np.array([1,2,3])\n",
        "w=np.array([3,4,4])\n",
        "print(v-w)"
      ]
    },
    {
      "cell_type": "code",
      "source": [
        "print(3*v)"
      ],
      "metadata": {
        "colab": {
          "base_uri": "https://localhost:8080/"
        },
        "id": "tdXylXX6yE0g",
        "outputId": "0273c12d-ed12-4178-c97d-3cad1a3b617c"
      },
      "execution_count": 3,
      "outputs": [
        {
          "output_type": "stream",
          "name": "stdout",
          "text": [
            "[3 6 9]\n"
          ]
        }
      ]
    },
    {
      "cell_type": "code",
      "source": [
        "print(np.linalg.norm(v))"
      ],
      "metadata": {
        "colab": {
          "base_uri": "https://localhost:8080/"
        },
        "id": "-w0w-hEeyOW3",
        "outputId": "cee62d4f-4314-4a47-87d9-90533b83fd29"
      },
      "execution_count": 4,
      "outputs": [
        {
          "output_type": "stream",
          "name": "stdout",
          "text": [
            "3.7416573867739413\n"
          ]
        }
      ]
    },
    {
      "cell_type": "code",
      "source": [
        "print(v.dot(w))"
      ],
      "metadata": {
        "colab": {
          "base_uri": "https://localhost:8080/"
        },
        "id": "jP7Qfihyyi6w",
        "outputId": "c831212a-68f2-4249-a220-03803845f640"
      },
      "execution_count": 5,
      "outputs": [
        {
          "output_type": "stream",
          "name": "stdout",
          "text": [
            "23\n"
          ]
        }
      ]
    },
    {
      "cell_type": "code",
      "source": [
        "p= np.array([[1,7], [2,1],[3,2]])\n",
        "q=np.array([[1,1],[1,-1],[3,2]])\n",
        "r=np.array([[1,3,1],[1,0,1]])\n",
        "c2=np.dot(p,r)\n",
        "print(c2)"
      ],
      "metadata": {
        "colab": {
          "base_uri": "https://localhost:8080/"
        },
        "id": "Z2EBcu47aWE2",
        "outputId": "6ac05a6e-e6ba-40fa-cf6e-12f282391188"
      },
      "execution_count": 8,
      "outputs": [
        {
          "output_type": "stream",
          "name": "stdout",
          "text": [
            "[[8 3 8]\n",
            " [3 6 3]\n",
            " [5 9 5]]\n"
          ]
        }
      ]
    },
    {
      "cell_type": "code",
      "source": [
        "det=np.linalg.det(c2)\n",
        "print(det)"
      ],
      "metadata": {
        "colab": {
          "base_uri": "https://localhost:8080/"
        },
        "id": "Rn8PXo3ZcAbW",
        "outputId": "0fc8fb3e-3a10-488c-aab3-e0d50e6cc606"
      },
      "execution_count": 9,
      "outputs": [
        {
          "output_type": "stream",
          "name": "stdout",
          "text": [
            "0.0\n"
          ]
        }
      ]
    },
    {
      "cell_type": "code",
      "source": [
        "m=np.array([[1,2],[-2,1]])\n",
        "print(np.linalg.inv(m))\n",
        "print(np.linalg.det(m))"
      ],
      "metadata": {
        "colab": {
          "base_uri": "https://localhost:8080/"
        },
        "id": "n8Xxw_ECcV1q",
        "outputId": "9943ff92-e489-42a2-927d-bb65e562d2a6"
      },
      "execution_count": 12,
      "outputs": [
        {
          "output_type": "stream",
          "name": "stdout",
          "text": [
            "[[ 0.2 -0.4]\n",
            " [ 0.4  0.2]]\n",
            "5.000000000000001\n"
          ]
        }
      ]
    }
  ]
}